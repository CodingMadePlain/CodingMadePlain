{
  "cells": [
    {
      "cell_type": "markdown",
      "metadata": {
        "id": "view-in-github",
        "colab_type": "text"
      },
      "source": [
        "<a href=\"https://colab.research.google.com/github/CodingMadePlain/CodingMadePlain/blob/main/scratchpad.ipynb\" target=\"_parent\"><img src=\"https://colab.research.google.com/assets/colab-badge.svg\" alt=\"Open In Colab\"/></a>"
      ]
    },
    {
      "cell_type": "code",
      "execution_count": null,
      "metadata": {
        "id": "lIYdn1woOS1n"
      },
      "outputs": [],
      "source": [
        "# @title Data Preparation and Cleaning\n",
        "# Now we use a larger file\n",
        "import pandas as pd  # to import the pandas library\n",
        "\n",
        "df = pd.read_csv(\"https://raw.githubusercontent.com/datasciencedojo/datasets/refs/heads/master/titanic.csv\")\n",
        "# df = pd.read_csv(\"data\\data_titanic.csv\")\n",
        "\n",
        "# Check the number of missing values in each column\n",
        "print(df.isnull().sum())"
      ]
    },
    {
      "cell_type": "code",
      "source": [
        "# Print top 20 rows\n",
        "print(df.shape)"
      ],
      "metadata": {
        "id": "OQNnLF8Usb3R"
      },
      "execution_count": null,
      "outputs": []
    },
    {
      "cell_type": "code",
      "source": [
        "# print information\n",
        "print(df.info())"
      ],
      "metadata": {
        "id": "rOJuTD5zs-dD"
      },
      "execution_count": null,
      "outputs": []
    },
    {
      "cell_type": "code",
      "source": [
        "# Find the average 'Fare'\n",
        "average_fare = df['Fare'].mean()\n",
        "print(f\"Average Fare: {average_fare}\")\n",
        "# To round to 2 decimal points\n",
        "print(f\"Average Fare: {round(average_fare, 2)}\")"
      ],
      "metadata": {
        "collapsed": true,
        "id": "KXRhaDdPtO1u"
      },
      "execution_count": null,
      "outputs": []
    },
    {
      "cell_type": "code",
      "source": [
        "# print random 100 'Fare' columns\n",
        "print(df['Fare'].sample(100))\n",
        "\n",
        "# check how many'fare'  columns are empty\n",
        "print(df['Fare'].isnull().sum())\n"
      ],
      "metadata": {
        "id": "AwVsDJMYuJAQ"
      },
      "execution_count": null,
      "outputs": []
    }
  ],
  "metadata": {
    "colab": {
      "name": "scratchpad",
      "provenance": [],
      "include_colab_link": true
    },
    "kernelspec": {
      "display_name": "Python 3",
      "name": "python3"
    }
  },
  "nbformat": 4,
  "nbformat_minor": 0
}
